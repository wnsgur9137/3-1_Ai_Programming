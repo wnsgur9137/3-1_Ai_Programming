{
 "cells": [
  {
   "cell_type": "code",
   "execution_count": 3,
   "metadata": {},
   "outputs": [
    {
     "ename": "SyntaxError",
     "evalue": "invalid syntax (3858084203.py, line 12)",
     "output_type": "error",
     "traceback": [
      "\u001b[0;36m  File \u001b[0;32m\"/var/folders/4l/64fqxr513477snd_cpn_bfk40000gn/T/ipykernel_19646/3858084203.py\"\u001b[0;36m, line \u001b[0;32m12\u001b[0m\n\u001b[0;31m    img=cv2.resize(img, (0, 0) fx=0.5, fy=0.5)\u001b[0m\n\u001b[0m                               ^\u001b[0m\n\u001b[0;31mSyntaxError\u001b[0m\u001b[0;31m:\u001b[0m invalid syntax\n"
     ]
    }
   ],
   "source": [
    "import os\n",
    "import matplotlib.pyplot as plt\n",
    "import matplotlib.image as mpimg\n",
    "import cv2\n",
    "# from google.colab.patches import cv2_imshow ## colab일 경우에만 필요\n",
    "img=cv2.imread('./content/test1_1920.jpg')\n",
    "print('img.ndim = ', img.ndim)\n",
    "print('img.shape =', img.shape)\n",
    "print('img.dtype = ', img.dtype)\n",
    "#cv2_imshow(img)\n",
    "cv2.imshow(img)\n",
    "img=cv2.resize(img, (0, 0), fx=0.5, fy=0.5)\n",
    "cv2.imwrite('./content/result/test1_href.jpg', img)\n",
    "cv2.imshow(img)\n"
   ]
  }
 ],
 "metadata": {
  "interpreter": {
   "hash": "0d151449e4628feead7016338a20eeec6b2249142759a5d6c87ab1fe3bbdc8d5"
  },
  "kernelspec": {
   "display_name": "Python 3.9.7 ('base')",
   "language": "python",
   "name": "python3"
  },
  "language_info": {
   "codemirror_mode": {
    "name": "ipython",
    "version": 3
   },
   "file_extension": ".py",
   "mimetype": "text/x-python",
   "name": "python",
   "nbconvert_exporter": "python",
   "pygments_lexer": "ipython3",
   "version": "3.9.7"
  },
  "orig_nbformat": 4
 },
 "nbformat": 4,
 "nbformat_minor": 2
}
