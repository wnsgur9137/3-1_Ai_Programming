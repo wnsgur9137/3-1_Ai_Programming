{
  "cells": [
    {
      "cell_type": "markdown",
      "id": "421ba2d5",
      "metadata": {
        "id": "421ba2d5"
      },
      "source": [
        "# 15장 실제 데이터로 만들어 보는 모델"
      ]
    },
    {
      "cell_type": "markdown",
      "id": "b2e21b2a",
      "metadata": {
        "id": "b2e21b2a"
      },
      "source": [
        "## 데이터 파악하기"
      ]
    },
    {
      "cell_type": "code",
      "execution_count": 28,
      "id": "a3fbd7bd",
      "metadata": {
        "colab": {
          "base_uri": "https://localhost:8080/"
        },
        "id": "a3fbd7bd",
        "outputId": "53c8f197-1594-42c7-c581-1b19133cf71f"
      },
      "outputs": [
        {
          "output_type": "stream",
          "name": "stdout",
          "text": [
            "10/10 [==============================] - 0s 2ms/step - loss: 3469278208.0000\n",
            "테스트 loss1 346.9278208\n",
            "10/10 [==============================] - 0s 2ms/step - loss: 3576066560.0000\n",
            "테스트 loss2 357.606656\n"
          ]
        }
      ],
      "source": [
        "from tensorflow.keras.models import Sequential, load_model\n",
        "from tensorflow.keras.layers import Dense\n",
        "from tensorflow.keras.callbacks import EarlyStopping, ModelCheckpoint\n",
        "from sklearn.model_selection import train_test_split\n",
        "\n",
        "import matplotlib.pyplot as plt\n",
        "import seaborn as sns\n",
        "\n",
        "import pandas as pd\n",
        "import numpy as np\n",
        "\n",
        "#데이터를 불러 옵니다.\n",
        "df = pd.read_csv(\"/content/house_train.csv\")\n",
        "\n",
        "#카테고리형 변수를 0과 1로 이루어진 변수로 바꾸어 줍니다.(12장 3절)\n",
        "df = pd.get_dummies(df)\n",
        "\n",
        "#결측치를 전체 칼럼의 평균으로 대체하여 채워줍니다. \n",
        "df = df.fillna(df.mean())\n",
        "\n",
        "#업데이트된 데이터프레임을 출력해 봅니다.\n",
        "#df\n",
        "#집 값을 제외한 나머지 열을 저장합니다. \n",
        "cols_train=['OverallQual','GrLivArea','GarageCars','GarageArea','TotalBsmtSF']\n",
        "X_train_pre = df[cols_train]\n",
        "\n",
        "#집 값을 저장합니다.\n",
        "y = df['SalePrice'].values\n",
        "X_train_pre=X_train_pre.astype(float)\n",
        "y=y.astype(float)\n",
        "#전체의 80%를 학습셋으로, 20%를 테스트셋으로 지정합니다.\n",
        "X_train, X_test, y_train, y_test = train_test_split(X_train_pre, y, test_size=0.2,shuffle=False)\n",
        "\n",
        "\n",
        "model=load_model ('/content/house1.hdf5')\n",
        "print('테스트 loss1', model.evaluate(X_test,y_test)/10000000)\n",
        "\n",
        "model=load_model ('/content/house2.hdf5')\n",
        "print('테스트 loss2', model.evaluate(X_test,y_test)/10000000)\n"
      ]
    }
  ],
  "metadata": {
    "kernelspec": {
      "display_name": "Python 3 (ipykernel)",
      "language": "python",
      "name": "python3"
    },
    "language_info": {
      "codemirror_mode": {
        "name": "ipython",
        "version": 3
      },
      "file_extension": ".py",
      "mimetype": "text/x-python",
      "name": "python",
      "nbconvert_exporter": "python",
      "pygments_lexer": "ipython3",
      "version": "3.9.7"
    },
    "colab": {
      "name": "house.ipynb",
      "provenance": [],
      "collapsed_sections": []
    }
  },
  "nbformat": 4,
  "nbformat_minor": 5
}