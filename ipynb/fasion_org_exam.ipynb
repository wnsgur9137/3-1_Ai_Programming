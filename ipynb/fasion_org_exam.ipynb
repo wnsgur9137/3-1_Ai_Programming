{
  "cells": [
    {
      "cell_type": "code",
      "execution_count": 8,
      "metadata": {
        "colab": {
          "base_uri": "https://localhost:8080/",
          "height": 473
        },
        "id": "ljDVkU0zAPda",
        "outputId": "6370f310-87aa-403b-a887-023efc74906b"
      },
      "outputs": [
        {
          "name": "stdout",
          "output_type": "stream",
          "text": [
            "Epoch 1/5\n",
            "1875/1875 [==============================] - 2s 814us/step - loss: 0.5450 - accuracy: 0.8141\n",
            "Epoch 2/5\n",
            "1875/1875 [==============================] - 2s 816us/step - loss: 0.4145 - accuracy: 0.8542\n",
            "Epoch 3/5\n",
            "1875/1875 [==============================] - 2s 916us/step - loss: 0.3770 - accuracy: 0.8669\n",
            "Epoch 4/5\n",
            "1875/1875 [==============================] - 2s 954us/step - loss: 0.3551 - accuracy: 0.8727\n",
            "Epoch 5/5\n",
            "1875/1875 [==============================] - 2s 846us/step - loss: 0.3376 - accuracy: 0.8781\n",
            "313/313 [==============================] - 0s 647us/step - loss: 0.4063 - accuracy: 0.8534\n",
            "모델1의 정확도: 0.8533999919891357\n",
            "Model: \"sequential_11\"\n",
            "_________________________________________________________________\n",
            " Layer (type)                Output Shape              Param #   \n",
            "=================================================================\n",
            " flatten_11 (Flatten)        (None, 784)               0         \n",
            "                                                                 \n",
            " dense_26 (Dense)            (None, 32)                25120     \n",
            "                                                                 \n",
            " dense_27 (Dense)            (None, 10)                330       \n",
            "                                                                 \n",
            "=================================================================\n",
            "Total params: 25,450\n",
            "Trainable params: 25,450\n",
            "Non-trainable params: 0\n",
            "_________________________________________________________________\n",
            "1050번째 이미지 예측 결과\n",
            "[0.   0.   0.07 0.   0.86 0.   0.06 0.   0.   0.  ]\n",
            "615번째 이미지 예측 결과\n",
            "[0.   0.   0.   0.   0.   0.01 0.   0.99 0.   0.  ]\n",
            "\n",
            "--------------------\n",
            "--------------------\n",
            "--------------------\n",
            "\n",
            "Epoch 1/5\n",
            "1875/1875 [==============================] - 2s 1ms/step - loss: 0.5536 - accuracy: 0.8062\n",
            "Epoch 2/5\n",
            "1875/1875 [==============================] - 2s 1ms/step - loss: 0.3993 - accuracy: 0.8549\n",
            "Epoch 3/5\n",
            "1875/1875 [==============================] - 2s 1ms/step - loss: 0.3623 - accuracy: 0.8673\n",
            "Epoch 4/5\n",
            "1875/1875 [==============================] - 2s 991us/step - loss: 0.3383 - accuracy: 0.8769\n",
            "Epoch 5/5\n",
            "1875/1875 [==============================] - 2s 997us/step - loss: 0.3198 - accuracy: 0.8824\n",
            "313/313 [==============================] - 0s 746us/step - loss: 0.3798 - accuracy: 0.8628\n",
            "모델2의 정확도: 0.8628000020980835\n",
            "Model: \"sequential_12\"\n",
            "_________________________________________________________________\n",
            " Layer (type)                Output Shape              Param #   \n",
            "=================================================================\n",
            " flatten_12 (Flatten)        (None, 784)               0         \n",
            "                                                                 \n",
            " dense_28 (Dense)            (None, 64)                50240     \n",
            "                                                                 \n",
            " dense_29 (Dense)            (None, 16)                1040      \n",
            "                                                                 \n",
            " dense_30 (Dense)            (None, 16)                272       \n",
            "                                                                 \n",
            "=================================================================\n",
            "Total params: 51,552\n",
            "Trainable params: 51,552\n",
            "Non-trainable params: 0\n",
            "_________________________________________________________________\n",
            "1050번째 이미지 예측 결과\n",
            "[0.   0.   0.04 0.01 0.92 0.   0.02 0.   0.01 0.   0.   0.   0.   0.\n",
            " 0.   0.  ]\n",
            "615번째 이미지 예측 결과\n",
            "[0. 0. 0. 0. 0. 0. 0. 1. 0. 0. 0. 0. 0. 0. 0. 0.]\n",
            "-----------\n"
          ]
        },
        {
          "data": {
            "image/png": "[encoded data removed]",
            "text/plain": [
              "<Figure size 432x288 with 1 Axes>"
            ]
          },
          "metadata": {
            "needs_background": "light"
          },
          "output_type": "display_data"
        }
      ],
      "source": [
        "import tensorflow as tf\n",
        "from tensorflow import keras\n",
        "import numpy as np\n",
        "import matplotlib.pyplot as plt\n",
        "from keras import datasets, layers, models\n",
        "\n",
        "fashion_mnist = keras.datasets.fashion_mnist\n",
        "(train_images, train_labels), (test_images, test_labels) = fashion_mnist.load_data()\n",
        "\n",
        "plt.imshow(train_images[0])\n",
        "\n",
        "train_images = train_images / 255.0\n",
        "test_images = test_images / 255.0\n",
        "\n",
        "\n",
        "model = models.Sequential()\n",
        "model.add(layers.Flatten(input_shape=(28, 28)))\n",
        "model.add(layers.Dense(128, activation='relu'))\n",
        "model.add(layers.Dense(10, activation='softmax'))\n",
        "\n",
        "model.compile(optimizer='adam',\n",
        "              loss='sparse_categorical_crossentropy',\n",
        "              metrics=['accuracy'])\n",
        "\n",
        "model.fit(train_images, train_labels, epochs=5)\n",
        "\n",
        "test_loss, test_acc = model.evaluate(test_images, test_labels)\n",
        "print('정확도:', test_acc)\n",
        "plt.imshow(test_images[615])\n",
        "print(np.round(test_pred[615],2))"
      ]
    },
    {
      "cell_type": "code",
      "execution_count": 25,
      "metadata": {
        "colab": {
          "base_uri": "https://localhost:8080/",
          "height": 282
        },
        "id": "bPx2j5_iAlxI",
        "outputId": "e8184875-cc81-4bfa-b180-a2600261463c"
      },
      "outputs": [
        {
          "name": "stdout",
          "output_type": "stream",
          "text": [
            "[0.   0.   0.   0.   0.   0.   0.   0.04 0.   0.96]\n"
          ]
        },
        {
          "data": {
            "image/png": "[encoded data removed]",
            "text/plain": [
              "<Figure size 432x288 with 1 Axes>"
            ]
          },
          "metadata": {
            "needs_background": "light"
          },
          "output_type": "display_data"
        }
      ],
      "source": [
        "test_pred=model.predict(test_images)\n",
        "plt.imshow(test_images[0])\n",
        "print(np.round(test_pred[0],2))"
      ]
    },
    {
      "cell_type": "code",
      "execution_count": 32,
      "metadata": {
        "colab": {
          "base_uri": "https://localhost:8080/",
          "height": 282
        },
        "id": "jIM8NpxcEfv4",
        "outputId": "5be6c2ac-3ddc-4091-e88c-e82f6ae8d41c"
      },
      "outputs": [
        {
          "name": "stdout",
          "output_type": "stream",
          "text": [
            "[0. 0. 0. 1. 0. 0. 0. 0. 0. 0.]\n"
          ]
        },
        {
          "data": {
            "image/png": "[encoded data removed]",
            "text/plain": [
              "<Figure size 432x288 with 1 Axes>"
            ]
          },
          "metadata": {
            "needs_background": "light"
          },
          "output_type": "display_data"
        }
      ],
      "source": [
        "plt.imshow(test_images[100])\n",
        "print(np.round(test_pred[100],2))"
      ]
    },
    {
      "cell_type": "code",
      "execution_count": 29,
      "metadata": {
        "colab": {
          "base_uri": "https://localhost:8080/",
          "height": 282
        },
        "id": "8KN66DWAAoC_",
        "outputId": "8036dbf0-0b21-49de-93fe-713b723b94b1"
      },
      "outputs": [
        {
          "name": "stdout",
          "output_type": "stream",
          "text": [
            "[0. 1. 0. 0. 0. 0. 0. 0. 0. 0.]\n"
          ]
        },
        {
          "data": {
            "image/png": "[encoded data removed]",
            "text/plain": [
              "<Figure size 432x288 with 1 Axes>"
            ]
          },
          "metadata": {
            "needs_background": "light"
          },
          "output_type": "display_data"
        }
      ],
      "source": [
        "plt.imshow(test_images[3])\n",
        "print(np.round(test_pred[3],2))"
      ]
    }
  ],
  "metadata": {
    "colab": {
      "name": "Untitled44.ipynb",
      "provenance": []
    },
    "interpreter": {
      "hash": "0d151449e4628feead7016338a20eeec6b2249142759a5d6c87ab1fe3bbdc8d5"
    },
    "kernelspec": {
      "display_name": "Python 3.9.7 ('base')",
      "language": "python",
      "name": "python3"
    },
    "language_info": {
      "codemirror_mode": {
        "name": "ipython",
        "version": 3
      },
      "file_extension": ".py",
      "mimetype": "text/x-python",
      "name": "python",
      "nbconvert_exporter": "python",
      "pygments_lexer": "ipython3",
      "version": "3.9.7"
    }
  },
  "nbformat": 4,
  "nbformat_minor": 0
}
