{
  "nbformat": 4,
  "nbformat_minor": 0,
  "metadata": {
    "kernelspec": {
      "display_name": "Python 3",
      "language": "python",
      "name": "python3"
    },
    "language_info": {
      "codemirror_mode": {
        "name": "ipython",
        "version": 3
      },
      "file_extension": ".py",
      "mimetype": "text/x-python",
      "name": "python",
      "nbconvert_exporter": "python",
      "pygments_lexer": "ipython3",
      "version": "3.7.3"
    },
    "colab": {
      "name": "colab_03_Linear_Regression.ipynb",
      "provenance": []
    }
  },
  "cells": [
    {
      "cell_type": "code",
      "metadata": {
        "id": "4zgh7vzS3MQy",
        "outputId": "7e4a4ddf-b476-4fea-9ec0-f49039377437",
        "colab": {
          "base_uri": "https://localhost:8080/",
          "height": 320
        }
      },
      "source": [
        "import numpy as np\n",
        "import pandas as pd\n",
        "import matplotlib.pyplot as plt\n",
        "\n",
        "\n",
        "def mse(y,y_hat):\n",
        "    return ((y-y_hat)**2).mean()\n",
        "\n",
        "def mse_val(y,predict_result):\n",
        "  return mse(np.array(y),np.array(predict_result))\n",
        "\n",
        "\n",
        "\n",
        "#공부시간 X와 성적 Y의 리스트를 만듭니다.\n",
        "data = [[2, 81], [4, 93], [6, 91], [8, 97]]\n",
        "x = [i[0] for i in data]\n",
        "y = [i[1] for i in data]\n",
        "\n",
        "#그래프로 나타내 봅니다.\n",
        "plt.figure(figsize=(8,5))\n",
        "plt.scatter(x, y)\n",
        "plt.show()"
      ],
      "execution_count": 3,
      "outputs": [
        {
          "output_type": "display_data",
          "data": {
            "text/plain": [
              "<Figure size 576x360 with 1 Axes>"
            ],
            "image/png": "[encoded data removed]"
          },
          "metadata": {
            "needs_background": "light"
          }
        }
      ]
    },
    {
      "cell_type": "code",
      "metadata": {
        "id": "Zuzdlmj-3MQ2",
        "outputId": "5c635a8f-cb59-4735-82de-093cdcb34959",
        "colab": {
          "base_uri": "https://localhost:8080/",
          "height": 456
        }
      },
      "source": [
        "#리스트로 되어 있는 x와 y값을 넘파이 배열로 바꾸어 줍니다.(인덱스를 주어 하나씩 불러와 계산이 가능해 지도록 하기 위함입니다.)\n",
        "x_data = np.array(x)\n",
        "y_data = np.array(y)\n",
        "\n",
        "# 기울기 a와 절편 b의 값을 초기화 합니다.\n",
        "a = 0\n",
        "b = 0\n",
        "\n",
        "#학습률을 정합니다.\n",
        "lr = 0.03 # default\n",
        "lr=0.0003\n",
        "\n",
        "#몇 번 반복될지를 설정합니다.\n",
        "epochs = 100  #default 2001\n",
        "\n",
        "i=0\n",
        "loss=np.zeros(epochs)\n",
        "loss_range=np.arange(epochs)\n",
        "#경사 하강법을 시작합니다.\n",
        "for i in range(epochs): # epoch 수 만큼 반복\n",
        "    y_hat = a * x_data + b  #y를 구하는 식을 세웁니다\n",
        "    error = y_data - y_hat  #오차를 구하는 식입니다.\n",
        "    a_diff = -(2/len(x_data)) * sum(x_data * (error)) # 오차함수를 a로 미분한 값입니다. \n",
        "    b_diff = -(2/len(x_data)) * sum(error)  # 오차함수를 b로 미분한 값입니다. \n",
        "    a = a - lr * a_diff  # 학습률을 곱해 기존의 a값을 업데이트합니다.\n",
        "    b = b - lr * b_diff  # 학습률을 곱해 기존의 b값을 업데이트합니다.\n",
        "    loss[i]=mse_val(y_data,y_hat)\n",
        "    if i % 10 == 0:    # 100번 반복될 때마다 현재의 a값, b값을 출력합니다.\n",
        "        print(\"epoch=%.f, 기울기=%.04f, 절편=%.04f loss =%1.05f\" % (i, a, b, loss[i]))\n",
        "plt.plot(loss_range,loss)"
      ],
      "execution_count": 15,
      "outputs": [
        {
          "output_type": "stream",
          "name": "stdout",
          "text": [
            "epoch=0, 기울기=0.2784, 절편=0.0543 오차 =8225.00000\n",
            "epoch=10, 기울기=2.7931, 절편=0.5521 오차 =5965.81863\n",
            "epoch=20, 기울기=4.8772, 절편=0.9777 오차 =4410.22195\n",
            "epoch=30, 기울기=6.6042, 절편=1.3434 오차 =3338.90852\n",
            "epoch=40, 기울기=8.0349, 절편=1.6594 오차 =2600.93165\n",
            "epoch=50, 기울기=9.2197, 절편=1.9341 오차 =2092.39373\n",
            "epoch=60, 기울기=10.2006, 절편=2.1745 오차 =1741.78132\n",
            "epoch=70, 기울기=11.0123, 절편=2.3865 오차 =1499.87125\n",
            "epoch=80, 기울기=11.6836, 절편=2.5749 오차 =1332.78285\n",
            "epoch=90, 기울기=12.2385, 절편=2.7438 오차 =1217.19585\n"
          ]
        },
        {
          "output_type": "execute_result",
          "data": {
            "text/plain": [
              "[<matplotlib.lines.Line2D at 0x7fcc9bcc0fd0>]"
            ]
          },
          "metadata": {},
          "execution_count": 15
        },
        {
          "output_type": "display_data",
          "data": {
            "text/plain": [
              "<Figure size 432x288 with 1 Axes>"
            ],
            "image/png": "[encoded data removed]"
          },
          "metadata": {
            "needs_background": "light"
          }
        }
      ]
    },
    {
      "cell_type": "code",
      "metadata": {
        "id": "CvO29laj3MQ6",
        "colab": {
          "base_uri": "https://localhost:8080/",
          "height": 265
        },
        "outputId": "5a3d7535-c159-4666-cf66-6cfecf057541"
      },
      "source": [
        "# 앞서 구한 기울기와 절편을 이용해 그래프를 그려 봅니다.\n",
        "y_pred = a * x_data + b\n",
        "plt.scatter(x, y)\n",
        "plt.plot([min(x_data), max(x_data)], [min(y_pred), max(y_pred)])\n",
        "plt.show()"
      ],
      "execution_count": null,
      "outputs": [
        {
          "output_type": "display_data",
          "data": {
            "image/png": "[encoded data removed]",
            "text/plain": [
              "<Figure size 432x288 with 1 Axes>"
            ]
          },
          "metadata": {
            "tags": [],
            "needs_background": "light"
          }
        }
      ]
    },
    {
      "cell_type": "code",
      "metadata": {
        "id": "tXVW-xmp3MQ9"
      },
      "source": [
        ""
      ],
      "execution_count": null,
      "outputs": []
    }
  ]
}