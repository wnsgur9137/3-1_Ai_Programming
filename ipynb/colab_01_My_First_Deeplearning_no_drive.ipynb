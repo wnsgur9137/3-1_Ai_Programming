{
  "cells": [
    {
      "cell_type": "code",
      "execution_count": 1,
      "metadata": {
        "colab": {
          "base_uri": "https://localhost:8080/",
          "height": 1000
        },
        "id": "f9ze0bFpjsoV",
        "outputId": "7679a336-ec29-4955-8cb2-b38f1b4282ed"
      },
      "outputs": [
        {
          "output_type": "stream",
          "name": "stdout",
          "text": [
            "Model: \"sequential\"\n",
            "_________________________________________________________________\n",
            " Layer (type)                Output Shape              Param #   \n",
            "=================================================================\n",
            " dense (Dense)               (None, 30)                540       \n",
            "                                                                 \n",
            " dense_1 (Dense)             (None, 1)                 31        \n",
            "                                                                 \n",
            "=================================================================\n",
            "Total params: 571\n",
            "Trainable params: 571\n",
            "Non-trainable params: 0\n",
            "_________________________________________________________________\n",
            "None\n",
            "Epoch 1/30\n",
            "47/47 [==============================] - 1s 2ms/step - loss: 0.6482 - acc: 0.8128\n",
            "Epoch 2/30\n",
            "47/47 [==============================] - 0s 3ms/step - loss: 0.4890 - acc: 0.8468\n",
            "Epoch 3/30\n",
            "47/47 [==============================] - 0s 2ms/step - loss: 0.4416 - acc: 0.8511\n",
            "Epoch 4/30\n",
            "47/47 [==============================] - 0s 2ms/step - loss: 0.4863 - acc: 0.8489\n",
            "Epoch 5/30\n",
            "47/47 [==============================] - 0s 2ms/step - loss: 0.4430 - acc: 0.8532\n",
            "Epoch 6/30\n",
            "47/47 [==============================] - 0s 2ms/step - loss: 0.4303 - acc: 0.8532\n",
            "Epoch 7/30\n",
            "47/47 [==============================] - 0s 2ms/step - loss: 0.4421 - acc: 0.8511\n",
            "Epoch 8/30\n",
            "47/47 [==============================] - 0s 2ms/step - loss: 0.4363 - acc: 0.8489\n",
            "Epoch 9/30\n",
            "47/47 [==============================] - 0s 2ms/step - loss: 0.4165 - acc: 0.8489\n",
            "Epoch 10/30\n",
            "47/47 [==============================] - 0s 2ms/step - loss: 0.4317 - acc: 0.8489\n",
            "Epoch 11/30\n",
            "47/47 [==============================] - 0s 4ms/step - loss: 0.4458 - acc: 0.8489\n",
            "Epoch 12/30\n",
            "47/47 [==============================] - 0s 3ms/step - loss: 0.4384 - acc: 0.8532\n",
            "Epoch 13/30\n",
            "47/47 [==============================] - 0s 2ms/step - loss: 0.4651 - acc: 0.8532\n",
            "Epoch 14/30\n",
            "47/47 [==============================] - 0s 2ms/step - loss: 0.4475 - acc: 0.8319\n",
            "Epoch 15/30\n",
            "47/47 [==============================] - 0s 2ms/step - loss: 0.4934 - acc: 0.8255\n",
            "Epoch 16/30\n",
            "47/47 [==============================] - 0s 2ms/step - loss: 0.4472 - acc: 0.8447\n",
            "Epoch 17/30\n",
            "47/47 [==============================] - 0s 2ms/step - loss: 0.4747 - acc: 0.8383\n",
            "Epoch 18/30\n",
            "47/47 [==============================] - 0s 2ms/step - loss: 0.4488 - acc: 0.8468\n",
            "Epoch 19/30\n",
            "47/47 [==============================] - 0s 2ms/step - loss: 0.4407 - acc: 0.8511\n",
            "Epoch 20/30\n",
            "47/47 [==============================] - 0s 2ms/step - loss: 0.4380 - acc: 0.8511\n",
            "Epoch 21/30\n",
            "47/47 [==============================] - 0s 2ms/step - loss: 0.4331 - acc: 0.8532\n",
            "Epoch 22/30\n",
            "47/47 [==============================] - 0s 2ms/step - loss: 0.4242 - acc: 0.8511\n",
            "Epoch 23/30\n",
            "47/47 [==============================] - 0s 2ms/step - loss: 0.4183 - acc: 0.8532\n",
            "Epoch 24/30\n",
            "47/47 [==============================] - 0s 2ms/step - loss: 0.4303 - acc: 0.8489\n",
            "Epoch 25/30\n",
            "47/47 [==============================] - 0s 2ms/step - loss: 0.4246 - acc: 0.8511\n",
            "Epoch 26/30\n",
            "47/47 [==============================] - 0s 2ms/step - loss: 0.4335 - acc: 0.8532\n",
            "Epoch 27/30\n",
            "47/47 [==============================] - 0s 2ms/step - loss: 0.4492 - acc: 0.8383\n",
            "Epoch 28/30\n",
            "47/47 [==============================] - 0s 2ms/step - loss: 0.4241 - acc: 0.8532\n",
            "Epoch 29/30\n",
            "47/47 [==============================] - 0s 2ms/step - loss: 0.4212 - acc: 0.8532\n",
            "Epoch 30/30\n",
            "47/47 [==============================] - 0s 2ms/step - loss: 0.4136 - acc: 0.8511\n"
          ]
        },
        {
          "output_type": "execute_result",
          "data": {
            "text/plain": [
              "[<matplotlib.lines.Line2D at 0x7f1c13160fd0>]"
            ]
          },
          "metadata": {},
          "execution_count": 1
        },
        {
          "output_type": "display_data",
          "data": {
            "text/plain": [
              "<Figure size 432x288 with 1 Axes>"
            ],
            "image/png": "[encoded data removed]"
          },
          "metadata": {
            "needs_background": "light"
          }
        }
      ],
      "source": [
        "# 파일 선택을 통해 예제 데이터를 내 컴퓨터에서 불러옵니다.\n",
        "\n",
        "# 딥러닝을 구동하는 데 필요한 케라스 함수를 불러옵니다.\n",
        "from tensorflow.keras.models import Sequential\n",
        "from tensorflow.keras.layers import Dense\n",
        "\n",
        "# 필요한 라이브러리를 불러옵니다.\n",
        "import numpy as np\n",
        "import tensorflow as tf\n",
        "import matplotlib.pyplot as plt\n",
        "\n",
        "# 실행할 때마다 같은 결과를 출력하기 위해 설정하는 부분입니다.\n",
        "np.random.seed(3)\n",
        "tf.random.set_seed(3)\n",
        "\n",
        "# 불러온 데이터를 적용합니다.\n",
        "Data_set = np.loadtxt(\"/content/ThoraricSurgery.csv\", delimiter=\",\")\n",
        "\n",
        "\n",
        "# 환자의 기록과 수술 결과를 X와 Y로 구분하여 저장합니다.\n",
        "X = Data_set[:,0:17]\n",
        "Y = Data_set[:,17]\n",
        "\n",
        "\n",
        "# 딥러닝 구조를 결정합니다(모델을 설정하고 실행하는 부분입니다).\n",
        "model = Sequential()\n",
        "model.add(Dense(30, input_dim=17, activation='relu'))\n",
        "model.add(Dense(1, activation='sigmoid'))\n",
        "\n",
        "print(model.summary())\n",
        "\n",
        "# 딥러닝을 실행합니다.\n",
        "model.compile(loss='binary_crossentropy', optimizer='adam', metrics=['acc'])\n",
        "history=model.fit(X, Y, epochs=30, batch_size=10)\n",
        "\n",
        "# 손실 함수의 변화를 plot합니다. \n",
        "y_loss = history.history['loss']\n",
        "x_len = np.arange(len(y_loss))\n",
        "plt.plot(x_len, y_loss, marker='.', c='blue', label=\"Train-set Loss\")\n",
        "\n"
      ]
    },
    {
      "cell_type": "markdown",
      "source": [
        "# 새 섹션"
      ],
      "metadata": {
        "id": "sl26LEjRYKml"
      }
    },
    {
      "cell_type": "code",
      "execution_count": null,
      "metadata": {
        "id": "U9r_J1iVLwk2"
      },
      "outputs": [],
      "source": [
        ""
      ]
    },
    {
      "cell_type": "code",
      "execution_count": null,
      "metadata": {
        "id": "5SLS3C9Jjsoc"
      },
      "outputs": [],
      "source": [
        ""
      ]
    }
  ],
  "metadata": {
    "colab": {
      "name": "colab_01_My_First_Deeplearning_rev.ipynb",
      "provenance": []
    },
    "kernelspec": {
      "display_name": "Python 3",
      "language": "python",
      "name": "python3"
    },
    "language_info": {
      "codemirror_mode": {
        "name": "ipython",
        "version": 3
      },
      "file_extension": ".py",
      "mimetype": "text/x-python",
      "name": "python",
      "nbconvert_exporter": "python",
      "pygments_lexer": "ipython3",
      "version": "3.7.3"
    }
  },
  "nbformat": 4,
  "nbformat_minor": 0
}