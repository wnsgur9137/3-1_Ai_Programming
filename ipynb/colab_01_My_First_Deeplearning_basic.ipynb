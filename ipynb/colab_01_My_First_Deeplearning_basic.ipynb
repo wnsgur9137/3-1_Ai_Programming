{
  "cells": [
    {
      "cell_type": "code",
      "execution_count": 4,
      "metadata": {
        "colab": {
          "base_uri": "https://localhost:8080/",
          "height": 1000
        },
        "outputId": "786a2d15-ca67-4bbe-d5c9-a0180616500e",
        "id": "eK9N5R8tAHy5"
      },
      "outputs": [
        {
          "output_type": "stream",
          "name": "stdout",
          "text": [
            "(470, 18)\n",
            "(470, 3)\n",
            "3\n",
            "Model: \"sequential_1\"\n",
            "_________________________________________________________________\n",
            " Layer (type)                Output Shape              Param #   \n",
            "=================================================================\n",
            " dense_2 (Dense)             (None, 30)                120       \n",
            "                                                                 \n",
            " dense_3 (Dense)             (None, 1)                 31        \n",
            "                                                                 \n",
            "=================================================================\n",
            "Total params: 151\n",
            "Trainable params: 151\n",
            "Non-trainable params: 0\n",
            "_________________________________________________________________\n",
            "None\n",
            "Epoch 1/30\n"
          ]
        },
        {
          "output_type": "stream",
          "name": "stderr",
          "text": [
            "/usr/local/lib/python3.7/dist-packages/keras/optimizer_v2/adam.py:105: UserWarning: The `lr` argument is deprecated, use `learning_rate` instead.\n",
            "  super(Adam, self).__init__(name, **kwargs)\n"
          ]
        },
        {
          "output_type": "stream",
          "name": "stdout",
          "text": [
            "47/47 [==============================] - 0s 2ms/step - loss: 0.6415 - acc: 0.8319\n",
            "Epoch 2/30\n",
            "47/47 [==============================] - 0s 1ms/step - loss: 0.5552 - acc: 0.8511\n",
            "Epoch 3/30\n",
            "47/47 [==============================] - 0s 2ms/step - loss: 0.4959 - acc: 0.8511\n",
            "Epoch 4/30\n",
            "47/47 [==============================] - 0s 2ms/step - loss: 0.4634 - acc: 0.8511\n",
            "Epoch 5/30\n",
            "47/47 [==============================] - 0s 2ms/step - loss: 0.4482 - acc: 0.8511\n",
            "Epoch 6/30\n",
            "47/47 [==============================] - 0s 2ms/step - loss: 0.4398 - acc: 0.8511\n",
            "Epoch 7/30\n",
            "47/47 [==============================] - 0s 2ms/step - loss: 0.4335 - acc: 0.8511\n",
            "Epoch 8/30\n",
            "47/47 [==============================] - 0s 2ms/step - loss: 0.4291 - acc: 0.8511\n",
            "Epoch 9/30\n",
            "47/47 [==============================] - 0s 2ms/step - loss: 0.4257 - acc: 0.8511\n",
            "Epoch 10/30\n",
            "47/47 [==============================] - 0s 2ms/step - loss: 0.4221 - acc: 0.8511\n",
            "Epoch 11/30\n",
            "47/47 [==============================] - 0s 2ms/step - loss: 0.4197 - acc: 0.8511\n",
            "Epoch 12/30\n",
            "47/47 [==============================] - 0s 2ms/step - loss: 0.4178 - acc: 0.8511\n",
            "Epoch 13/30\n",
            "47/47 [==============================] - 0s 2ms/step - loss: 0.4162 - acc: 0.8511\n",
            "Epoch 14/30\n",
            "47/47 [==============================] - 0s 2ms/step - loss: 0.4155 - acc: 0.8511\n",
            "Epoch 15/30\n",
            "47/47 [==============================] - 0s 2ms/step - loss: 0.4140 - acc: 0.8511\n",
            "Epoch 16/30\n",
            "47/47 [==============================] - 0s 2ms/step - loss: 0.4128 - acc: 0.8511\n",
            "Epoch 17/30\n",
            "47/47 [==============================] - 0s 2ms/step - loss: 0.4125 - acc: 0.8511\n",
            "Epoch 18/30\n",
            "47/47 [==============================] - 0s 2ms/step - loss: 0.4115 - acc: 0.8511\n",
            "Epoch 19/30\n",
            "47/47 [==============================] - 0s 2ms/step - loss: 0.4117 - acc: 0.8511\n",
            "Epoch 20/30\n",
            "47/47 [==============================] - 0s 2ms/step - loss: 0.4110 - acc: 0.8511\n",
            "Epoch 21/30\n",
            "47/47 [==============================] - 0s 2ms/step - loss: 0.4101 - acc: 0.8511\n",
            "Epoch 22/30\n",
            "47/47 [==============================] - 0s 2ms/step - loss: 0.4107 - acc: 0.8511\n",
            "Epoch 23/30\n",
            "47/47 [==============================] - 0s 2ms/step - loss: 0.4097 - acc: 0.8511\n",
            "Epoch 24/30\n",
            "47/47 [==============================] - 0s 2ms/step - loss: 0.4102 - acc: 0.8511\n",
            "Epoch 25/30\n",
            "47/47 [==============================] - 0s 2ms/step - loss: 0.4094 - acc: 0.8511\n",
            "Epoch 26/30\n",
            "47/47 [==============================] - 0s 2ms/step - loss: 0.4092 - acc: 0.8511\n",
            "Epoch 27/30\n",
            "47/47 [==============================] - 0s 2ms/step - loss: 0.4099 - acc: 0.8511\n",
            "Epoch 28/30\n",
            "47/47 [==============================] - 0s 2ms/step - loss: 0.4088 - acc: 0.8511\n",
            "Epoch 29/30\n",
            "47/47 [==============================] - 0s 2ms/step - loss: 0.4089 - acc: 0.8511\n",
            "Epoch 30/30\n",
            "47/47 [==============================] - 0s 2ms/step - loss: 0.4091 - acc: 0.8511\n"
          ]
        },
        {
          "output_type": "display_data",
          "data": {
            "text/plain": [
              "<Figure size 432x288 with 1 Axes>"
            ],
            "image/png": "[encoded data removed]"
          },
          "metadata": {
            "needs_background": "light"
          }
        }
      ],
      "source": [
        "# 파일 선택을 통해 예제 데이터를 내 컴퓨터에서 불러옵니다.\n",
        "\n",
        "# 딥러닝을 구동하는 데 필요한 케라스 함수를 불러옵니다.\n",
        "from tensorflow.keras.models import Sequential\n",
        "from tensorflow.keras.layers import Dense\n",
        "\n",
        "# 필요한 라이브러리를 불러옵니다.\n",
        "import numpy as np\n",
        "import tensorflow as tf\n",
        "import matplotlib.pyplot as plt\n",
        "\n",
        "# 실행할 때마다 같은 결과를 출력하기 위해 설정하는 부분입니다.\n",
        "np.random.seed(3)\n",
        "tf.random.set_seed(3)\n",
        "\n",
        "# 불러온 데이터를 적용합니다.\n",
        "Data_set = np.loadtxt(\"/content/ThoraricSurgery.csv\", delimiter=\",\")\n",
        "\n",
        "\n",
        "# 환자의 기록과 수술 결과를 X와 Y로 구분하여 저장합니다.\n",
        "#X = Data_set[:,0:17]\n",
        "X = Data_set[:,7:10]\n",
        "Y = Data_set[:,17]\n",
        "print(Data_set.shape)\n",
        "print(X.shape)\n",
        "print(X.shape[1])\n",
        "\n",
        "# 딥러닝 구조를 결정합니다(모델을 설정하고 실행하는 부분입니다).\n",
        "model = Sequential()\n",
        "model.add(Dense(30, input_dim=X.shape[1], activation='relu'))\n",
        "model.add(Dense(1, activation='sigmoid'))\n",
        "\n",
        "\n",
        "print(model.summary())\n",
        "\n",
        "# 딥러닝을 실행합니다.\n",
        "\n",
        "model.compile(loss='binary_crossentropy', optimizer=tf.keras.optimizers.Adam(lr=0.001,beta_1=0.9,beta_2=0.999,epsilon=1e-08,decay=0.0), metrics=['acc'])\n",
        "history=model.fit(X, Y, epochs=30, batch_size=10)\n",
        "y_loss = history.history['loss']\n",
        "x_len = np.arange(len(y_loss))\n",
        "plt.plot(x_len, y_loss, marker='.', c='blue', label=\"adam\")\n",
        "\n",
        "\n",
        "\n",
        "plt.legend(loc=\"upper right\")\n",
        "plt.show()\n",
        "\n"
      ]
    },
    {
      "cell_type": "markdown",
      "source": [
        "# 새 섹션"
      ],
      "metadata": {
        "id": "sl26LEjRYKml"
      }
    },
    {
      "cell_type": "code",
      "execution_count": null,
      "metadata": {
        "id": "U9r_J1iVLwk2"
      },
      "outputs": [],
      "source": [
        ""
      ]
    },
    {
      "cell_type": "code",
      "execution_count": null,
      "metadata": {
        "id": "5SLS3C9Jjsoc"
      },
      "outputs": [],
      "source": [
        ""
      ]
    }
  ],
  "metadata": {
    "colab": {
      "name": "colab_01_My_First_Deeplearning_basic.ipynb",
      "provenance": [],
      "collapsed_sections": []
    },
    "kernelspec": {
      "display_name": "Python 3",
      "language": "python",
      "name": "python3"
    },
    "language_info": {
      "codemirror_mode": {
        "name": "ipython",
        "version": 3
      },
      "file_extension": ".py",
      "mimetype": "text/x-python",
      "name": "python",
      "nbconvert_exporter": "python",
      "pygments_lexer": "ipython3",
      "version": "3.7.3"
    }
  },
  "nbformat": 4,
  "nbformat_minor": 0
}