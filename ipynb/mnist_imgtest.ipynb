{
  "nbformat": 4,
  "nbformat_minor": 0,
  "metadata": {
    "colab": {
      "name": "mnist_imgtest.ipynb",
      "provenance": [],
      "collapsed_sections": []
    },
    "kernelspec": {
      "name": "python3",
      "display_name": "Python 3"
    },
    "language_info": {
      "name": "python"
    }
  },
  "cells": [
    {
      "cell_type": "code",
      "source": [
        "import cv2 \n",
        "import numpy as np\n",
        "from tensorflow.keras.models import load_model\n",
        "from google.colab.patches import cv2_imshow\n",
        "\n",
        "model=load_model('/content/mnist_model1.hdf5')\n",
        "img=cv2.imread('2.png',cv2.IMREAD_GRAYSCALE)\n",
        "img=cv2.resize(img,(28,28))\n",
        "img=img.astype('float32')\n",
        "cv2_imshow(img)\n",
        "img=255-img\n",
        "cv2_imshow(img)\n",
        "img=img/255.0\n",
        "img=img[np.newaxis,:,:,np.newaxis]\n",
        "test_pred=model.predict(img)\n",
        "print(np.round(test_pred,2))\n",
        "\n"
      ],
      "metadata": {
        "colab": {
          "base_uri": "https://localhost:8080/",
          "height": 90
        },
        "id": "so1ZaIeMyNdd",
        "outputId": "ea324d27-9e5d-4b7d-b27b-cdcb6dc2aaf8"
      },
      "execution_count": null,
      "outputs": [
        {
          "output_type": "display_data",
          "data": {
            "text/plain": [
              "<PIL.Image.Image image mode=L size=28x28 at 0x7FBCDBCBA0D0>"
            ],
            "image/png": "[encoded data removed]"
          },
          "metadata": {}
        },
        {
          "output_type": "display_data",
          "data": {
            "text/plain": [
              "<PIL.Image.Image image mode=L size=28x28 at 0x7FBCDBCBA0D0>"
            ],
            "image/png": "[encoded data removed]"
          },
          "metadata": {}
        },
        {
          "output_type": "stream",
          "name": "stdout",
          "text": [
            "[[0.   0.08 0.92 0.   0.   0.   0.   0.   0.   0.  ]]\n"
          ]
        }
      ]
    }
  ]
}