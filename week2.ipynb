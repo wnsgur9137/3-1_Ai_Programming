{
 "cells": [
  {
   "cell_type": "code",
   "execution_count": 2,
   "id": "7b4ded4f",
   "metadata": {},
   "outputs": [
    {
     "name": "stdout",
     "output_type": "stream",
     "text": [
      "1.2532418085611319 2.745502230882486\n"
     ]
    },
    {
     "data": {
      "image/png": "[encoded data removed]",
      "text/plain": [
       "<Figure size 432x288 with 1 Axes>"
      ]
     },
     "metadata": {
      "needs_background": "light"
     },
     "output_type": "display_data"
    }
   ],
   "source": [
    "# 선형회귀 예제_01\n",
    "\n",
    "import numpy as np\n",
    "import matplotlib.pyplot as plt\n",
    "\n",
    "X = np.array([0.0, 1.0, 2.0])\n",
    "y = np.array([3.0, 3.5, 5.5])\n",
    "\n",
    "w = 0  # 기울기\n",
    "b = 0  # 절편\n",
    "\n",
    "lrate = 0.01 # 학습률\n",
    "epochs = 1000 # 반복 횟수\n",
    "\n",
    "n = float(len(X)) # 입력 데이터의 개수\n",
    "\n",
    "# 경사 하강법\n",
    "for i in range(epochs):\n",
    "    y_pred = w * X + b # 선형 회귀 예측값\n",
    "    dw = (2/n) * sum(X * (y_pred-y)) # 넘파이 배열간의 산술 계산은 요소별로 적용\n",
    "    db = (2/n) * sum(y_pred-y) # sum()은 모든 요소들의 합을 계산하는 '내장 함수'\n",
    "    w = w - lrate * dw # 기울기 수정\n",
    "    b = b - lrate * db # 절편 수정\n",
    "    \n",
    "# 기울기와 절편을 출력한다.\n",
    "print(w, b)\n",
    "\n",
    "# 예측값을 만든다.\n",
    "y_pred = w*X + b\n",
    "\n",
    "# 입력 데이터를 그래프 상에 찍는다.\n",
    "plt.scatter(X, y)\n",
    "\n",
    "# 예측값은 선그래프로 그린다.\n",
    "plt.plot([min(X), max(X)], [min(y_pred), max(y_pred)], color='red')\n",
    "plt.show()"
   ]
  },
  {
   "cell_type": "code",
   "execution_count": 3,
   "id": "79f681be",
   "metadata": {},
   "outputs": [
    {
     "name": "stdout",
     "output_type": "stream",
     "text": [
      "[1.25]\n",
      "2.7500000000000004\n",
      "0.8928571428571429\n",
      "[9.]\n"
     ]
    },
    {
     "data": {
      "image/png": "[encoded data removed]",
      "text/plain": [
       "<Figure size 432x288 with 1 Axes>"
      ]
     },
     "metadata": {
      "needs_background": "light"
     },
     "output_type": "display_data"
    }
   ],
   "source": [
    "# 선형회귀 예제_02\n",
    "\n",
    "import matplotlib.pylab as plt\n",
    "from sklearn import linear_model\n",
    "\n",
    "# 선형 회귀 모델을 생성한다.\n",
    "reg = linear_model.LinearRegression()\n",
    "\n",
    "# 데이터는 파이썬의 리스트로 만들어도 되고 아니면 넘파이의 배열로 만들어도 된다.\n",
    "X = [[0], [1], [2]]  # 반드시 2차원으로 만들어야함.\n",
    "y = [3, 3.5, 5.5]  # y = x + 3\n",
    "\n",
    "# 학습 진행\n",
    "reg.fit(X, y)\n",
    "\n",
    "print(reg.coef_) # 직선의 기울기\n",
    "print(reg.intercept_) # 직선의 y-절편\n",
    "print(reg.score(X, y))\n",
    "\n",
    "print(reg.predict([[5]]))\n",
    "\n",
    "# 학습 데이터와 y 값을 산포도로 그린다.\n",
    "plt.scatter(X, y, color='black')\n",
    "\n",
    "# 학습 데이터를 입력으로 하여 예측값을 계산한다.\n",
    "y_pred = reg.predict(X)\n",
    "\n",
    "# 학습 데이터와 예측값으로 선그래프로 그린다.\n",
    "# 계산된 기울기와 y 절편을 가지는 직선이 그려진다.\n",
    "plt.plot(X, y_pred, color='blue', linewidth=3)\n",
    "plt.show()"
   ]
  },
  {
   "cell_type": "code",
   "execution_count": 4,
   "id": "b556897c",
   "metadata": {},
   "outputs": [
    {
     "name": "stdout",
     "output_type": "stream",
     "text": [
      "[67.30998637]\n"
     ]
    },
    {
     "data": {
      "image/png": "[encoded data removed]",
      "text/plain": [
       "<Figure size 432x288 with 1 Axes>"
      ]
     },
     "metadata": {
      "needs_background": "light"
     },
     "output_type": "display_data"
    }
   ],
   "source": [
    "# 선형회귀 예제_03\n",
    "\n",
    "import matplotlib.pylab as plt\n",
    "from sklearn import linear_model\n",
    "\n",
    "reg = linear_model.LinearRegression()\n",
    "\n",
    "X = [[174], [152], [138], [128], [186]]\n",
    "y = [71, 55, 46, 38, 88]\n",
    "\n",
    "reg.fit(X, y) # 학습 진행\n",
    "\n",
    "print(reg.predict([[165]]))\n",
    "\n",
    "# 학습 데이터와 y 값을 산포도로 그린다.\n",
    "plt.scatter(X, y, color='black')\n",
    "\n",
    "# 학습 데이터를 입력으로 하여 예측값을 계산한다.\n",
    "y_pred = reg.predict(X)\n",
    "\n",
    "# 학습 데이터와 예측값으로 선그래프를 그린다.\n",
    "# 계산된 기울기와 y 절편을 가지는 직선이 그려진다.\n",
    "plt.plot(X, y_pred, color='blue', linewidth=3)\n",
    "plt.show()"
   ]
  },
  {
   "cell_type": "code",
   "execution_count": 5,
   "id": "29a94536",
   "metadata": {},
   "outputs": [
    {
     "name": "stdout",
     "output_type": "stream",
     "text": [
      "[0 1 2 3 4 5 6 7 8 9]\n",
      "[4 5 6 7]\n",
      "[5 6 7]\n",
      "[9 8 7 6 5 4 3 2 1 0]\n",
      "[  0   1   2 100 100 100   6   7   8   9]\n",
      "[  0   1   2 100 200 300   6   7   8   9]\n",
      "[0 1 2 3 4 5 6 7 8 9]\n",
      "[2 4 6]\n",
      "[  0   1 100   3 100   5 100   7   8   9]\n",
      "[[ 0  1  2  3]\n",
      " [ 4  5  6  7]\n",
      " [ 8  9 10 11]]\n",
      "[[ 5  6]\n",
      " [ 9 10]]\n",
      "[[ 4  5  6  7]\n",
      " [ 8  9 10 11]]\n",
      "[[ 4  5  6  7]\n",
      " [ 8  9 10 11]]\n",
      "[[ 0  1  2  3]\n",
      " [ 4  5  6  7]\n",
      " [ 8  9 10 11]]\n",
      "[[ 5  6]\n",
      " [ 9 10]]\n",
      "[[  0   1   2   3]\n",
      " [  4 100 100   7]\n",
      " [  8 100 100  11]]\n",
      "[[  0   1   2   3]\n",
      " [  4 100 200   7]\n",
      " [  8 100 200  11]]\n",
      "[[  0   1   2   3]\n",
      " [  4 100 200   7]\n",
      " [  8 300 400  11]]\n"
     ]
    }
   ],
   "source": [
    "# Numpy 배열 slicing 연습\n",
    "\n",
    "import numpy as np\n",
    "a = np.arange(10)\n",
    "print(a)\n",
    "# [0 1 2 3 4 5 6 7 8 9]\n",
    "\n",
    "print(a[4:8])\n",
    "# [4 5 6 7]\n",
    "\n",
    "print(a[-5:-2])\n",
    "# [5 6 7]\n",
    "\n",
    "print(a[::-1])\n",
    "# [9 8 7 6 5 4 3 2 1 0]\n",
    "\n",
    "a[3:6] = 100\n",
    "print(a)\n",
    "# [0 1 2 100 100 100 6 7 8 9]\n",
    "\n",
    "a[3:6] = [100, 200, 300]\n",
    "print(a)\n",
    "# [0 1 2 100 200 300 6 7 8 9]\n",
    "\n",
    "#a[3:6] = [100, 200, 300, 400]\n",
    "# ValueError: cannot copy sequence with size 4 to array axis with dimension 3\n",
    "\n",
    "a = np.arange(10)\n",
    "print(a)\n",
    "# [0 1 2 3 4 5 6 7 8 9]\n",
    "\n",
    "print(a[2:8:2])\n",
    "# [2 4 6]\n",
    "\n",
    "a[2:8:2] = 100\n",
    "print(a)\n",
    "# [0 1 100 3 100 5 100 7 8 9]\n",
    "\n",
    "a[2:8:2] = [100, 200, 300]\n",
    "# [0 1 100 3 200 5 300 7 8 9]\n",
    "\n",
    "a = np.arange(12).reshape((3, 4))\n",
    "print(a)\n",
    "# [[0 1 2 3]\n",
    "#  [4 5 6 7]\n",
    "#  [8 9 10 11]]\n",
    "\n",
    "print(a[1:, 1:3])\n",
    "# [[5 6]\n",
    "#  [9 10]]\n",
    "\n",
    "print(a[1:, :])\n",
    "# [[4 5 6 7]\n",
    "#  [8 9 10 11]]\n",
    "\n",
    "print(a[1:])\n",
    "# [[4 5 6 7]\n",
    "#  [8 9 10 11]]\n",
    "\n",
    "a = np.arange(12).reshape((3, 4))\n",
    "print(a)\n",
    "# [[0 1 2 3]\n",
    "#  [4 5 6 7]\n",
    "#  [8 9 10 11]]\n",
    "\n",
    "print(a[1:, 1:3])\n",
    "# [[5 6]\n",
    "#  [9 10]]\n",
    "\n",
    "a[1:, 1:3] = 100\n",
    "print(a)\n",
    "# [[0 1 2 3]\n",
    "#  [4 100 100 7]\n",
    "#  [8 100 100 11]]\n",
    "\n",
    "a[1:, 1:3] = [100, 200]\n",
    "print(a)\n",
    "# [[0 1 2 3]\n",
    "#  [4 100 200 7]\n",
    "#  [8 100 200 11]]\n",
    "\n",
    "a[1:, 1:3] = [[100, 200], [300, 400]]\n",
    "print(a)\n",
    "# [[0 1 2 3]\n",
    "#  [4 100 200 7]\n",
    "#  [8 300 400 11]]"
   ]
  },
  {
   "cell_type": "code",
   "execution_count": 6,
   "id": "8941557b",
   "metadata": {},
   "outputs": [
    {
     "name": "stdout",
     "output_type": "stream",
     "text": [
      "[1 2 3 4] (1, 4)\n",
      "[[1 2 3 4]] (1, 4)\n",
      "[[1]\n",
      " [2]\n",
      " [3]\n",
      " [4]] (4, 1)\n"
     ]
    }
   ],
   "source": [
    "# Numpy 예제_01\n",
    "\n",
    "import numpy as np\n",
    "arr = np.array([1, 2, 3, 4])\n",
    "arr1 = arr\n",
    "arr2 = arr[np.newaxis]\n",
    "arr3 = arr[:, np.newaxis]\n",
    "print(arr1, arr2.shape)\n",
    "print(arr2, arr2.shape)\n",
    "print(arr3, arr3.shape)\n"
   ]
  },
  {
   "cell_type": "code",
   "execution_count": 7,
   "id": "e86bfab5",
   "metadata": {},
   "outputs": [
    {
     "name": "stdout",
     "output_type": "stream",
     "text": [
      "(442, 10)\n",
      "(442, 1)\n"
     ]
    },
    {
     "data": {
      "image/png": "[encoded data removed]",
      "text/plain": [
       "<Figure size 432x288 with 1 Axes>"
      ]
     },
     "metadata": {
      "needs_background": "light"
     },
     "output_type": "display_data"
    }
   ],
   "source": [
    "# 선형 회귀 예제 실습 - 당뇨병 예제\n",
    "\n",
    "# BMI와 혈당간의 관계 예측\n",
    "\n",
    "import matplotlib.pylab as plt\n",
    "import numpy as np\n",
    "from sklearn.linear_model import LinearRegression\n",
    "from sklearn import datasets, linear_model\n",
    "\n",
    "# 당뇨병 데이터 세트를 적재한다.\n",
    "diabetes_X, diabetes_y = datasets.load_diabetes(return_X_y=True)\n",
    "\n",
    "print(diabetes_X.data.shape)\n",
    "# 하나의 특징(BMI)만 추려내서 2차원 배열로 만든다. BMI 특징의 인덱스가 2이다.\n",
    "diabetes_X_new = diabetes_X[:, np.newaxis, 2]\n",
    "print(diabetes_X_new.data.shape)\n",
    "\n",
    "# 학습 데이터와 테스트 데이터를 분리한다.\n",
    "from sklearn.model_selection import train_test_split\n",
    "X_train, X_test, y_train, y_test = train_test_split(diabetes_X_new, diabetes_y, test_size=0.1, random_state=0)\n",
    "\n",
    "regr = linear_model.LinearRegression()\n",
    "regr.fit(X_train, y_train)\n",
    "\n",
    "# 테스트 데이터로 예측해보자.\n",
    "y_pred = regr.predict(X_test)\n",
    "\n",
    "# 실제 데이터와 예측 데이터를 비교해보자.\n",
    "# plt.plot(y_test, y_ptre, '.')\n",
    "\n",
    "plt.scatter(X_test, y_test, color='black')\n",
    "plt.plot(X_test, y_pred, color='blue', linewidth=3)\n",
    "plt.show()"
   ]
  },
  {
   "cell_type": "code",
   "execution_count": null,
   "id": "fc125a0e",
   "metadata": {},
   "outputs": [],
   "source": []
  }
 ],
 "metadata": {
  "kernelspec": {
   "display_name": "Python 3 (ipykernel)",
   "language": "python",
   "name": "python3"
  },
  "language_info": {
   "codemirror_mode": {
    "name": "ipython",
    "version": 3
   },
   "file_extension": ".py",
   "mimetype": "text/x-python",
   "name": "python",
   "nbconvert_exporter": "python",
   "pygments_lexer": "ipython3",
   "version": "3.9.7"
  }
 },
 "nbformat": 4,
 "nbformat_minor": 5
}
